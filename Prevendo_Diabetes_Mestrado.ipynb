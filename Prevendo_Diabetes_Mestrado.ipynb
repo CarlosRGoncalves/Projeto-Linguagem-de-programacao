{
  "cells": [
    {
      "cell_type": "markdown",
      "metadata": {
        "id": "VpchfX4XdZ4O"
      },
      "source": [
        "## Prevendo a Ocorrência de Diabetes\n",
        "# Dataset Kaggle"
      ]
    },
    {
      "cell_type": "markdown",
      "source": [
        "Disciplina Linguagens de Programação"
      ],
      "metadata": {
        "id": "enTsOf_aecN-"
      }
    },
    {
      "cell_type": "code",
      "source": [
        "import pandas as pd\n",
        "import matplotlib.pyplot as plt\n",
        "import numpy as np\n",
        "from sklearn.model_selection import train_test_split\n",
        "from sklearn.model_selection import cross_validate\n",
        "from sklearn.tree import DecisionTreeClassifier\n",
        "from sklearn import metrics #nivel de exatidao do meu algoritmo\n",
        "from sklearn.naive_bayes import GaussianNB\n",
        "from google.colab import drive\n",
        "from sklearn import metrics #nivel de exatidao do meu algoritmo\n",
        "from sklearn.ensemble import RandomForestClassifier #metodo ensemble\n",
        "\n",
        "\n",
        "df = pd.read_csv(\"pima-data.csv\") #importação dataset. Link do dataset no moodle\n"
      ],
      "metadata": {
        "colab": {
          "base_uri": "https://localhost:8080/"
        },
        "id": "HEsA0mdixxnY",
        "outputId": "6285d65d-d33f-4bd2-a291-f9d721896fea"
      },
      "execution_count": null,
      "outputs": [
        {
          "output_type": "stream",
          "name": "stdout",
          "text": [
            "Mounted at /content/drive\n"
          ]
        }
      ]
    },
    {
      "cell_type": "code",
      "source": [
        "df.shape #formato dos dados"
      ],
      "metadata": {
        "colab": {
          "base_uri": "https://localhost:8080/"
        },
        "id": "7-NN91F0yT9A",
        "outputId": "11299563-925d-40dc-9fe0-7c9706d6740e"
      },
      "execution_count": null,
      "outputs": [
        {
          "output_type": "execute_result",
          "data": {
            "text/plain": [
              "(768, 10)"
            ]
          },
          "metadata": {},
          "execution_count": 8
        }
      ]
    },
    {
      "cell_type": "code",
      "source": [
        "df.head(5)"
      ],
      "metadata": {
        "colab": {
          "base_uri": "https://localhost:8080/",
          "height": 206
        },
        "id": "5jP2HmC1zm2W",
        "outputId": "63fdd05d-5938-418b-c76c-2e298defde1b"
      },
      "execution_count": null,
      "outputs": [
        {
          "output_type": "execute_result",
          "data": {
            "text/plain": [
              "   num_preg  glucose_conc  diastolic_bp  thickness  insulin   bmi  diab_pred  \\\n",
              "0         6           148            72         35        0  33.6      0.627   \n",
              "1         1            85            66         29        0  26.6      0.351   \n",
              "2         8           183            64          0        0  23.3      0.672   \n",
              "3         1            89            66         23       94  28.1      0.167   \n",
              "4         0           137            40         35      168  43.1      2.288   \n",
              "\n",
              "   age    skin  diabetes  \n",
              "0   50  1.3790      True  \n",
              "1   31  1.1426     False  \n",
              "2   32  0.0000      True  \n",
              "3   21  0.9062     False  \n",
              "4   33  1.3790      True  "
            ],
            "text/html": [
              "\n",
              "  <div id=\"df-225528fa-dfa7-4f0b-bcb5-790ddc064705\" class=\"colab-df-container\">\n",
              "    <div>\n",
              "<style scoped>\n",
              "    .dataframe tbody tr th:only-of-type {\n",
              "        vertical-align: middle;\n",
              "    }\n",
              "\n",
              "    .dataframe tbody tr th {\n",
              "        vertical-align: top;\n",
              "    }\n",
              "\n",
              "    .dataframe thead th {\n",
              "        text-align: right;\n",
              "    }\n",
              "</style>\n",
              "<table border=\"1\" class=\"dataframe\">\n",
              "  <thead>\n",
              "    <tr style=\"text-align: right;\">\n",
              "      <th></th>\n",
              "      <th>num_preg</th>\n",
              "      <th>glucose_conc</th>\n",
              "      <th>diastolic_bp</th>\n",
              "      <th>thickness</th>\n",
              "      <th>insulin</th>\n",
              "      <th>bmi</th>\n",
              "      <th>diab_pred</th>\n",
              "      <th>age</th>\n",
              "      <th>skin</th>\n",
              "      <th>diabetes</th>\n",
              "    </tr>\n",
              "  </thead>\n",
              "  <tbody>\n",
              "    <tr>\n",
              "      <th>0</th>\n",
              "      <td>6</td>\n",
              "      <td>148</td>\n",
              "      <td>72</td>\n",
              "      <td>35</td>\n",
              "      <td>0</td>\n",
              "      <td>33.6</td>\n",
              "      <td>0.627</td>\n",
              "      <td>50</td>\n",
              "      <td>1.3790</td>\n",
              "      <td>True</td>\n",
              "    </tr>\n",
              "    <tr>\n",
              "      <th>1</th>\n",
              "      <td>1</td>\n",
              "      <td>85</td>\n",
              "      <td>66</td>\n",
              "      <td>29</td>\n",
              "      <td>0</td>\n",
              "      <td>26.6</td>\n",
              "      <td>0.351</td>\n",
              "      <td>31</td>\n",
              "      <td>1.1426</td>\n",
              "      <td>False</td>\n",
              "    </tr>\n",
              "    <tr>\n",
              "      <th>2</th>\n",
              "      <td>8</td>\n",
              "      <td>183</td>\n",
              "      <td>64</td>\n",
              "      <td>0</td>\n",
              "      <td>0</td>\n",
              "      <td>23.3</td>\n",
              "      <td>0.672</td>\n",
              "      <td>32</td>\n",
              "      <td>0.0000</td>\n",
              "      <td>True</td>\n",
              "    </tr>\n",
              "    <tr>\n",
              "      <th>3</th>\n",
              "      <td>1</td>\n",
              "      <td>89</td>\n",
              "      <td>66</td>\n",
              "      <td>23</td>\n",
              "      <td>94</td>\n",
              "      <td>28.1</td>\n",
              "      <td>0.167</td>\n",
              "      <td>21</td>\n",
              "      <td>0.9062</td>\n",
              "      <td>False</td>\n",
              "    </tr>\n",
              "    <tr>\n",
              "      <th>4</th>\n",
              "      <td>0</td>\n",
              "      <td>137</td>\n",
              "      <td>40</td>\n",
              "      <td>35</td>\n",
              "      <td>168</td>\n",
              "      <td>43.1</td>\n",
              "      <td>2.288</td>\n",
              "      <td>33</td>\n",
              "      <td>1.3790</td>\n",
              "      <td>True</td>\n",
              "    </tr>\n",
              "  </tbody>\n",
              "</table>\n",
              "</div>\n",
              "    <div class=\"colab-df-buttons\">\n",
              "\n",
              "  <div class=\"colab-df-container\">\n",
              "    <button class=\"colab-df-convert\" onclick=\"convertToInteractive('df-225528fa-dfa7-4f0b-bcb5-790ddc064705')\"\n",
              "            title=\"Convert this dataframe to an interactive table.\"\n",
              "            style=\"display:none;\">\n",
              "\n",
              "  <svg xmlns=\"http://www.w3.org/2000/svg\" height=\"24px\" viewBox=\"0 -960 960 960\">\n",
              "    <path d=\"M120-120v-720h720v720H120Zm60-500h600v-160H180v160Zm220 220h160v-160H400v160Zm0 220h160v-160H400v160ZM180-400h160v-160H180v160Zm440 0h160v-160H620v160ZM180-180h160v-160H180v160Zm440 0h160v-160H620v160Z\"/>\n",
              "  </svg>\n",
              "    </button>\n",
              "\n",
              "  <style>\n",
              "    .colab-df-container {\n",
              "      display:flex;\n",
              "      gap: 12px;\n",
              "    }\n",
              "\n",
              "    .colab-df-convert {\n",
              "      background-color: #E8F0FE;\n",
              "      border: none;\n",
              "      border-radius: 50%;\n",
              "      cursor: pointer;\n",
              "      display: none;\n",
              "      fill: #1967D2;\n",
              "      height: 32px;\n",
              "      padding: 0 0 0 0;\n",
              "      width: 32px;\n",
              "    }\n",
              "\n",
              "    .colab-df-convert:hover {\n",
              "      background-color: #E2EBFA;\n",
              "      box-shadow: 0px 1px 2px rgba(60, 64, 67, 0.3), 0px 1px 3px 1px rgba(60, 64, 67, 0.15);\n",
              "      fill: #174EA6;\n",
              "    }\n",
              "\n",
              "    .colab-df-buttons div {\n",
              "      margin-bottom: 4px;\n",
              "    }\n",
              "\n",
              "    [theme=dark] .colab-df-convert {\n",
              "      background-color: #3B4455;\n",
              "      fill: #D2E3FC;\n",
              "    }\n",
              "\n",
              "    [theme=dark] .colab-df-convert:hover {\n",
              "      background-color: #434B5C;\n",
              "      box-shadow: 0px 1px 3px 1px rgba(0, 0, 0, 0.15);\n",
              "      filter: drop-shadow(0px 1px 2px rgba(0, 0, 0, 0.3));\n",
              "      fill: #FFFFFF;\n",
              "    }\n",
              "  </style>\n",
              "\n",
              "    <script>\n",
              "      const buttonEl =\n",
              "        document.querySelector('#df-225528fa-dfa7-4f0b-bcb5-790ddc064705 button.colab-df-convert');\n",
              "      buttonEl.style.display =\n",
              "        google.colab.kernel.accessAllowed ? 'block' : 'none';\n",
              "\n",
              "      async function convertToInteractive(key) {\n",
              "        const element = document.querySelector('#df-225528fa-dfa7-4f0b-bcb5-790ddc064705');\n",
              "        const dataTable =\n",
              "          await google.colab.kernel.invokeFunction('convertToInteractive',\n",
              "                                                    [key], {});\n",
              "        if (!dataTable) return;\n",
              "\n",
              "        const docLinkHtml = 'Like what you see? Visit the ' +\n",
              "          '<a target=\"_blank\" href=https://colab.research.google.com/notebooks/data_table.ipynb>data table notebook</a>'\n",
              "          + ' to learn more about interactive tables.';\n",
              "        element.innerHTML = '';\n",
              "        dataTable['output_type'] = 'display_data';\n",
              "        await google.colab.output.renderOutput(dataTable, element);\n",
              "        const docLink = document.createElement('div');\n",
              "        docLink.innerHTML = docLinkHtml;\n",
              "        element.appendChild(docLink);\n",
              "      }\n",
              "    </script>\n",
              "  </div>\n",
              "\n",
              "\n",
              "<div id=\"df-6ccb0c62-a9ce-4c33-9340-d37d8076b947\">\n",
              "  <button class=\"colab-df-quickchart\" onclick=\"quickchart('df-6ccb0c62-a9ce-4c33-9340-d37d8076b947')\"\n",
              "            title=\"Suggest charts\"\n",
              "            style=\"display:none;\">\n",
              "\n",
              "<svg xmlns=\"http://www.w3.org/2000/svg\" height=\"24px\"viewBox=\"0 0 24 24\"\n",
              "     width=\"24px\">\n",
              "    <g>\n",
              "        <path d=\"M19 3H5c-1.1 0-2 .9-2 2v14c0 1.1.9 2 2 2h14c1.1 0 2-.9 2-2V5c0-1.1-.9-2-2-2zM9 17H7v-7h2v7zm4 0h-2V7h2v10zm4 0h-2v-4h2v4z\"/>\n",
              "    </g>\n",
              "</svg>\n",
              "  </button>\n",
              "\n",
              "<style>\n",
              "  .colab-df-quickchart {\n",
              "      --bg-color: #E8F0FE;\n",
              "      --fill-color: #1967D2;\n",
              "      --hover-bg-color: #E2EBFA;\n",
              "      --hover-fill-color: #174EA6;\n",
              "      --disabled-fill-color: #AAA;\n",
              "      --disabled-bg-color: #DDD;\n",
              "  }\n",
              "\n",
              "  [theme=dark] .colab-df-quickchart {\n",
              "      --bg-color: #3B4455;\n",
              "      --fill-color: #D2E3FC;\n",
              "      --hover-bg-color: #434B5C;\n",
              "      --hover-fill-color: #FFFFFF;\n",
              "      --disabled-bg-color: #3B4455;\n",
              "      --disabled-fill-color: #666;\n",
              "  }\n",
              "\n",
              "  .colab-df-quickchart {\n",
              "    background-color: var(--bg-color);\n",
              "    border: none;\n",
              "    border-radius: 50%;\n",
              "    cursor: pointer;\n",
              "    display: none;\n",
              "    fill: var(--fill-color);\n",
              "    height: 32px;\n",
              "    padding: 0;\n",
              "    width: 32px;\n",
              "  }\n",
              "\n",
              "  .colab-df-quickchart:hover {\n",
              "    background-color: var(--hover-bg-color);\n",
              "    box-shadow: 0 1px 2px rgba(60, 64, 67, 0.3), 0 1px 3px 1px rgba(60, 64, 67, 0.15);\n",
              "    fill: var(--button-hover-fill-color);\n",
              "  }\n",
              "\n",
              "  .colab-df-quickchart-complete:disabled,\n",
              "  .colab-df-quickchart-complete:disabled:hover {\n",
              "    background-color: var(--disabled-bg-color);\n",
              "    fill: var(--disabled-fill-color);\n",
              "    box-shadow: none;\n",
              "  }\n",
              "\n",
              "  .colab-df-spinner {\n",
              "    border: 2px solid var(--fill-color);\n",
              "    border-color: transparent;\n",
              "    border-bottom-color: var(--fill-color);\n",
              "    animation:\n",
              "      spin 1s steps(1) infinite;\n",
              "  }\n",
              "\n",
              "  @keyframes spin {\n",
              "    0% {\n",
              "      border-color: transparent;\n",
              "      border-bottom-color: var(--fill-color);\n",
              "      border-left-color: var(--fill-color);\n",
              "    }\n",
              "    20% {\n",
              "      border-color: transparent;\n",
              "      border-left-color: var(--fill-color);\n",
              "      border-top-color: var(--fill-color);\n",
              "    }\n",
              "    30% {\n",
              "      border-color: transparent;\n",
              "      border-left-color: var(--fill-color);\n",
              "      border-top-color: var(--fill-color);\n",
              "      border-right-color: var(--fill-color);\n",
              "    }\n",
              "    40% {\n",
              "      border-color: transparent;\n",
              "      border-right-color: var(--fill-color);\n",
              "      border-top-color: var(--fill-color);\n",
              "    }\n",
              "    60% {\n",
              "      border-color: transparent;\n",
              "      border-right-color: var(--fill-color);\n",
              "    }\n",
              "    80% {\n",
              "      border-color: transparent;\n",
              "      border-right-color: var(--fill-color);\n",
              "      border-bottom-color: var(--fill-color);\n",
              "    }\n",
              "    90% {\n",
              "      border-color: transparent;\n",
              "      border-bottom-color: var(--fill-color);\n",
              "    }\n",
              "  }\n",
              "</style>\n",
              "\n",
              "  <script>\n",
              "    async function quickchart(key) {\n",
              "      const quickchartButtonEl =\n",
              "        document.querySelector('#' + key + ' button');\n",
              "      quickchartButtonEl.disabled = true;  // To prevent multiple clicks.\n",
              "      quickchartButtonEl.classList.add('colab-df-spinner');\n",
              "      try {\n",
              "        const charts = await google.colab.kernel.invokeFunction(\n",
              "            'suggestCharts', [key], {});\n",
              "      } catch (error) {\n",
              "        console.error('Error during call to suggestCharts:', error);\n",
              "      }\n",
              "      quickchartButtonEl.classList.remove('colab-df-spinner');\n",
              "      quickchartButtonEl.classList.add('colab-df-quickchart-complete');\n",
              "    }\n",
              "    (() => {\n",
              "      let quickchartButtonEl =\n",
              "        document.querySelector('#df-6ccb0c62-a9ce-4c33-9340-d37d8076b947 button');\n",
              "      quickchartButtonEl.style.display =\n",
              "        google.colab.kernel.accessAllowed ? 'block' : 'none';\n",
              "    })();\n",
              "  </script>\n",
              "</div>\n",
              "\n",
              "    </div>\n",
              "  </div>\n"
            ],
            "application/vnd.google.colaboratory.intrinsic+json": {
              "type": "dataframe",
              "variable_name": "df",
              "summary": "{\n  \"name\": \"df\",\n  \"rows\": 768,\n  \"fields\": [\n    {\n      \"column\": \"num_preg\",\n      \"properties\": {\n        \"dtype\": \"number\",\n        \"std\": 3,\n        \"min\": 0,\n        \"max\": 17,\n        \"num_unique_values\": 17,\n        \"samples\": [\n          6,\n          1,\n          3\n        ],\n        \"semantic_type\": \"\",\n        \"description\": \"\"\n      }\n    },\n    {\n      \"column\": \"glucose_conc\",\n      \"properties\": {\n        \"dtype\": \"number\",\n        \"std\": 31,\n        \"min\": 0,\n        \"max\": 199,\n        \"num_unique_values\": 136,\n        \"samples\": [\n          151,\n          101,\n          112\n        ],\n        \"semantic_type\": \"\",\n        \"description\": \"\"\n      }\n    },\n    {\n      \"column\": \"diastolic_bp\",\n      \"properties\": {\n        \"dtype\": \"number\",\n        \"std\": 19,\n        \"min\": 0,\n        \"max\": 122,\n        \"num_unique_values\": 47,\n        \"samples\": [\n          86,\n          46,\n          85\n        ],\n        \"semantic_type\": \"\",\n        \"description\": \"\"\n      }\n    },\n    {\n      \"column\": \"thickness\",\n      \"properties\": {\n        \"dtype\": \"number\",\n        \"std\": 15,\n        \"min\": 0,\n        \"max\": 99,\n        \"num_unique_values\": 51,\n        \"samples\": [\n          7,\n          12,\n          48\n        ],\n        \"semantic_type\": \"\",\n        \"description\": \"\"\n      }\n    },\n    {\n      \"column\": \"insulin\",\n      \"properties\": {\n        \"dtype\": \"number\",\n        \"std\": 115,\n        \"min\": 0,\n        \"max\": 846,\n        \"num_unique_values\": 186,\n        \"samples\": [\n          52,\n          41,\n          183\n        ],\n        \"semantic_type\": \"\",\n        \"description\": \"\"\n      }\n    },\n    {\n      \"column\": \"bmi\",\n      \"properties\": {\n        \"dtype\": \"number\",\n        \"std\": 7.884160320375446,\n        \"min\": 0.0,\n        \"max\": 67.1,\n        \"num_unique_values\": 248,\n        \"samples\": [\n          19.9,\n          31.0,\n          38.1\n        ],\n        \"semantic_type\": \"\",\n        \"description\": \"\"\n      }\n    },\n    {\n      \"column\": \"diab_pred\",\n      \"properties\": {\n        \"dtype\": \"number\",\n        \"std\": 0.3313285950127749,\n        \"min\": 0.078,\n        \"max\": 2.42,\n        \"num_unique_values\": 517,\n        \"samples\": [\n          1.731,\n          0.426,\n          0.138\n        ],\n        \"semantic_type\": \"\",\n        \"description\": \"\"\n      }\n    },\n    {\n      \"column\": \"age\",\n      \"properties\": {\n        \"dtype\": \"number\",\n        \"std\": 11,\n        \"min\": 21,\n        \"max\": 81,\n        \"num_unique_values\": 52,\n        \"samples\": [\n          60,\n          47,\n          72\n        ],\n        \"semantic_type\": \"\",\n        \"description\": \"\"\n      }\n    },\n    {\n      \"column\": \"skin\",\n      \"properties\": {\n        \"dtype\": \"number\",\n        \"std\": 0.6285173721684689,\n        \"min\": 0.0,\n        \"max\": 3.9006,\n        \"num_unique_values\": 51,\n        \"samples\": [\n          0.2758,\n          0.4728,\n          1.8912\n        ],\n        \"semantic_type\": \"\",\n        \"description\": \"\"\n      }\n    },\n    {\n      \"column\": \"diabetes\",\n      \"properties\": {\n        \"dtype\": \"boolean\",\n        \"num_unique_values\": 2,\n        \"samples\": [\n          false,\n          true\n        ],\n        \"semantic_type\": \"\",\n        \"description\": \"\"\n      }\n    }\n  ]\n}"
            }
          },
          "metadata": {},
          "execution_count": 9
        }
      ]
    },
    {
      "source": [
        "# @title Gráfico para amostra de casos de verdadeiro para diabetes e falso\n",
        "\n",
        "from matplotlib import pyplot as plt\n",
        "import seaborn as sns\n",
        "df.groupby('diabetes').size().plot(kind='barh', color=sns.palettes.mpl_palette('Dark2'))\n",
        "plt.gca().spines[['top', 'right',]].set_visible(False)"
      ],
      "cell_type": "code",
      "execution_count": null,
      "outputs": [
        {
          "output_type": "display_data",
          "data": {
            "text/plain": [
              "<Figure size 640x480 with 1 Axes>"
            ],
            "image/png": "[encoded data removed]"
          },
          "metadata": {}
        }
      ],
      "metadata": {
        "colab": {
          "base_uri": "https://localhost:8080/",
          "height": 430
        },
        "id": "O8IlgQkn0e_3",
        "outputId": "b4c5b016-483a-435a-fab6-9949ba5d7967"
      }
    },
    {
      "cell_type": "code",
      "source": [
        "# Dados aleatórios\n",
        "# Plotando o gráfico\n",
        "plt.scatter(df.age, df.diabetes)\n",
        "plt.xlabel('Idade')\n",
        "plt.ylabel('Diabetes')\n",
        "plt.title('Gráfico de Dispersão Idade e diabetes')\n",
        "plt.show()"
      ],
      "metadata": {
        "colab": {
          "base_uri": "https://localhost:8080/",
          "height": 472
        },
        "id": "KNWmtqiIC_n-",
        "outputId": "e6bc886a-6366-4537-f28c-65322043d758"
      },
      "execution_count": null,
      "outputs": [
        {
          "output_type": "display_data",
          "data": {
            "text/plain": [
              "<Figure size 640x480 with 1 Axes>"
            ],
            "image/png": "[encoded data removed]"
          },
          "metadata": {}
        }
      ]
    },
    {
      "cell_type": "code",
      "source": [
        "df.isnull().values.any() #valores nulos? Verifica valores nulos para manipular meu dataset\n",
        "\n",
        "diabetes_map = {True : 1, False : 0} #definicao das classes\n",
        "\n",
        "df['diabetes'] = df['diabetes'].map(diabetes_map) # Aplicando o mapeamento ao dataset mp converto\n",
        "#verificando como os dados estao distribuidos\n",
        "num_true = len(df.loc[df['diabetes'] == True])\n",
        "num_false = len(df.loc[df['diabetes'] == False])\n",
        "print(\"Casos Verdadeiros: {0} ({1:2.2f}%)\".format(num_true, (num_true/ (num_true + num_false)) * 100))\n",
        "print(\"Casos Falsos     : {0} ({1:2.2f}%)\".format(num_false, (num_false/ (num_true + num_false)) * 100))\n"
      ],
      "metadata": {
        "colab": {
          "base_uri": "https://localhost:8080/"
        },
        "id": "9xsJec0j0w6V",
        "outputId": "5278c271-759e-4cba-bbcb-fc83e18747d2"
      },
      "execution_count": null,
      "outputs": [
        {
          "output_type": "stream",
          "name": "stdout",
          "text": [
            "Casos Verdadeiros: 268 (34.90%)\n",
            "Casos Falsos     : 500 (65.10%)\n"
          ]
        }
      ]
    },
    {
      "cell_type": "markdown",
      "source": [],
      "metadata": {
        "id": "l8N3Ofor3SSc"
      }
    },
    {
      "cell_type": "markdown",
      "source": [
        "**Algoritmo Naive Bayes**\n",
        "\n"
      ],
      "metadata": {
        "id": "Zh32yQg72r0z"
      }
    },
    {
      "cell_type": "code",
      "source": [
        "# Seleção de variáveis preditoras (Feature Selection)\n",
        "atributos = ['num_preg', 'glucose_conc', 'diastolic_bp', 'thickness', 'insulin', 'bmi', 'diab_pred', 'age']\n",
        "\n",
        "# Variável a ser prevista target\n",
        "atrib_prev = ['diabetes']\n",
        "\n",
        "# Criando objetos\n",
        "X = df[atributos].values\n",
        "Y = df[atrib_prev].values\n",
        "\n",
        "# Definindo a taxa de split\n",
        "split_test_size = 0.30\n",
        "\n",
        "# Criando dados de treino e de teste\n",
        "X_treino, X_teste, Y_treino, Y_teste = train_test_split(X, Y, test_size = split_test_size, random_state = 42)\n",
        "# Imprimindo os resultados\n",
        "print(\"{0:0.2f}% nos dados de treino\".format((len(X_treino)/len(df.index)) * 100))\n",
        "print(\"{0:0.2f}% nos dados de teste\".format((len(X_teste)/len(df.index)) * 100))\n",
        "\n",
        "print(\"Casos verdadeiros originais: {0} ({1:0.2f}%)\".format(len(df.loc[df['diabetes'] == 1]),\n",
        "                                               (len(df.loc[df['diabetes'] ==1])/len(df.index) * 100)))\n",
        "\n",
        "print(\"Casos falsos originais: {0} ({1:0.2f}%)\".format(len(df.loc[df['diabetes'] == 0]),\n",
        "                                               (len(df.loc[df['diabetes'] == 0])/len(df.index) * 100)))\n",
        "print(\"\")\n",
        "print(\"Casos verdadeiros trainos : {0} ({1:0.2f}%)\".format(len(Y_treino[Y_treino[:] == 1]),\n",
        "                                               (len(Y_treino[Y_treino[:] == 1])/len(Y_treino) * 100)))\n",
        "\n",
        "print(\"Casos falsos treinos : {0} ({1:0.2f}%)\".format(len(Y_treino[Y_treino[:] == 0]),\n",
        "                                               (len(Y_treino[Y_treino[:] == 0])/len(Y_treino) * 100)))\n",
        "print(\"\")\n",
        "print(\"Testes verdadeiros : {0} ({1:0.2f}%)\".format(len(Y_teste[Y_teste[:] == 1]),\n",
        "                                               (len(Y_teste[Y_teste[:] == 1])/len(Y_teste) * 100)))\n",
        "\n",
        "print(\"Testes Falsos : {0} ({1:0.2f}%)\".format(len(Y_teste[Y_teste[:] == 0]),\n",
        "                                               (len(Y_teste[Y_teste[:] == 0])/len(Y_teste) * 100)))"
      ],
      "metadata": {
        "colab": {
          "base_uri": "https://localhost:8080/"
        },
        "id": "wTDrihkk08Rw",
        "outputId": "d5c77496-b192-4041-c66c-9bdf9d7fcdaa"
      },
      "execution_count": null,
      "outputs": [
        {
          "output_type": "stream",
          "name": "stdout",
          "text": [
            "69.92% nos dados de treino\n",
            "30.08% nos dados de teste\n",
            "Casos verdadeiros originais: 268 (34.90%)\n",
            "Casos falsos originais: 500 (65.10%)\n",
            "\n",
            "Casos verdadeiros trainos : 188 (35.01%)\n",
            "Casos falsos treinos : 349 (64.99%)\n",
            "\n",
            "Testes verdadeiros : 80 (34.63%)\n",
            "Testes Falsos : 151 (65.37%)\n"
          ]
        }
      ]
    },
    {
      "cell_type": "code",
      "source": [
        "# Modelo usando algoritmo Naive Bayes\n",
        "# Criando o modelo preditivo\n",
        "modelo_v1 = GaussianNB()\n",
        "\n",
        "# Treinando o modelo\n",
        "modelo_v1.fit(X_treino, Y_treino.ravel())\n",
        "\n",
        "results = cross_validate(modelo_v1, X, Y, cv = 5)\n",
        "nb_predict_test = modelo_v1.predict(X_teste)#previsoes variaveis preditoras\n",
        "\n",
        "results = cross_validate(modelo_v1, X, Y, cv = 5)\n",
        "desvio_padrao = results['test_score'].std()\n",
        "print(results['test_score'])\n",
        "media = results ['test_score'].mean()\n",
        "print(\"Media = \",media)\n",
        "print(\"Accuracy com cross validation, 5 = [%.2f, %.2f]\" % ((media - 2 *desvio_padrao) * 100, (media + 2 * desvio_padrao) * 100))\n",
        "print(\"Exatidão Naive Bayes(Accuracy): {0:.4f}\".format(metrics.accuracy_score(Y_teste, nb_predict_test)))\n",
        "#comparo treino com valores reais históricos\n",
        "print()"
      ],
      "metadata": {
        "colab": {
          "base_uri": "https://localhost:8080/"
        },
        "id": "eVmwhWTn1U26",
        "outputId": "d01bd09d-d752-40f0-9212-7e6d0e1e4a18"
      },
      "execution_count": null,
      "outputs": [
        {
          "output_type": "stream",
          "name": "stdout",
          "text": [
            "[0.75324675 0.72727273 0.74675325 0.78431373 0.74509804]\n",
            "Media =  0.7513368983957219\n",
            "Accuracy com cross validation, 5 = [71.41, 78.85]\n",
            "Exatidão Naive Bayes(Accuracy): 0.7446\n",
            "\n"
          ]
        },
        {
          "output_type": "stream",
          "name": "stderr",
          "text": [
            "/usr/local/lib/python3.10/dist-packages/sklearn/utils/validation.py:1143: DataConversionWarning: A column-vector y was passed when a 1d array was expected. Please change the shape of y to (n_samples, ), for example using ravel().\n",
            "  y = column_or_1d(y, warn=True)\n",
            "/usr/local/lib/python3.10/dist-packages/sklearn/utils/validation.py:1143: DataConversionWarning: A column-vector y was passed when a 1d array was expected. Please change the shape of y to (n_samples, ), for example using ravel().\n",
            "  y = column_or_1d(y, warn=True)\n",
            "/usr/local/lib/python3.10/dist-packages/sklearn/utils/validation.py:1143: DataConversionWarning: A column-vector y was passed when a 1d array was expected. Please change the shape of y to (n_samples, ), for example using ravel().\n",
            "  y = column_or_1d(y, warn=True)\n",
            "/usr/local/lib/python3.10/dist-packages/sklearn/utils/validation.py:1143: DataConversionWarning: A column-vector y was passed when a 1d array was expected. Please change the shape of y to (n_samples, ), for example using ravel().\n",
            "  y = column_or_1d(y, warn=True)\n",
            "/usr/local/lib/python3.10/dist-packages/sklearn/utils/validation.py:1143: DataConversionWarning: A column-vector y was passed when a 1d array was expected. Please change the shape of y to (n_samples, ), for example using ravel().\n",
            "  y = column_or_1d(y, warn=True)\n",
            "/usr/local/lib/python3.10/dist-packages/sklearn/utils/validation.py:1143: DataConversionWarning: A column-vector y was passed when a 1d array was expected. Please change the shape of y to (n_samples, ), for example using ravel().\n",
            "  y = column_or_1d(y, warn=True)\n",
            "/usr/local/lib/python3.10/dist-packages/sklearn/utils/validation.py:1143: DataConversionWarning: A column-vector y was passed when a 1d array was expected. Please change the shape of y to (n_samples, ), for example using ravel().\n",
            "  y = column_or_1d(y, warn=True)\n",
            "/usr/local/lib/python3.10/dist-packages/sklearn/utils/validation.py:1143: DataConversionWarning: A column-vector y was passed when a 1d array was expected. Please change the shape of y to (n_samples, ), for example using ravel().\n",
            "  y = column_or_1d(y, warn=True)\n",
            "/usr/local/lib/python3.10/dist-packages/sklearn/utils/validation.py:1143: DataConversionWarning: A column-vector y was passed when a 1d array was expected. Please change the shape of y to (n_samples, ), for example using ravel().\n",
            "  y = column_or_1d(y, warn=True)\n",
            "/usr/local/lib/python3.10/dist-packages/sklearn/utils/validation.py:1143: DataConversionWarning: A column-vector y was passed when a 1d array was expected. Please change the shape of y to (n_samples, ), for example using ravel().\n",
            "  y = column_or_1d(y, warn=True)\n"
          ]
        }
      ]
    },
    {
      "cell_type": "markdown",
      "source": [
        "**Matriz de Confusão Naive Bayes**\n",
        "\n"
      ],
      "metadata": {
        "id": "thKTK_dK26ZW"
      }
    },
    {
      "cell_type": "code",
      "source": [
        "# Criando uma Confusion Matrix\n",
        "nb_predict_test = modelo_v1.predict(X_teste) #nunca foi treinado dados que ele n conhece\n",
        "print(\"Confusion Matrix\")\n",
        "\n",
        "print(\"{0}\".format(metrics.confusion_matrix(Y_teste, nb_predict_test, labels = [1, 0])))\n",
        "print(\"\")\n",
        "\n",
        "print(\"Classification Report\")\n",
        "print(metrics.classification_report(Y_teste, nb_predict_test, labels = [1, 0]))"
      ],
      "metadata": {
        "colab": {
          "base_uri": "https://localhost:8080/"
        },
        "id": "0GKYr9rL1fwt",
        "outputId": "d9f40a4a-d336-428d-e3ae-fae30ad51483"
      },
      "execution_count": null,
      "outputs": [
        {
          "output_type": "stream",
          "name": "stdout",
          "text": [
            "Confusion Matrix\n",
            "[[ 53  27]\n",
            " [ 32 119]]\n",
            "\n",
            "Classification Report\n",
            "              precision    recall  f1-score   support\n",
            "\n",
            "           1       0.62      0.66      0.64        80\n",
            "           0       0.82      0.79      0.80       151\n",
            "\n",
            "    accuracy                           0.74       231\n",
            "   macro avg       0.72      0.73      0.72       231\n",
            "weighted avg       0.75      0.74      0.75       231\n",
            "\n"
          ]
        }
      ]
    },
    {
      "cell_type": "markdown",
      "source": [
        "**Algoritmo Random Forest**\n"
      ],
      "metadata": {
        "id": "aGQEedyy3i-V"
      }
    },
    {
      "cell_type": "code",
      "source": [
        "# Modelo usando algoritmo Random Forest\n",
        "#conjunto de arvore de precisao\n",
        "\n",
        "modelo_v2 = RandomForestClassifier(random_state = 42)\n",
        "modelo_v2.fit(X_treino, Y_treino.ravel())#treino o modelo\n",
        "\n",
        "# Verificando nos dados de teste\n",
        "rf_predict_test = modelo_v2.predict(X_teste)\n",
        "results = cross_validate(modelo_v2, X, Y, cv = 5)\n",
        "print(results['test_score'])\n",
        "media = results ['test_score'].mean()\n",
        "print(\"Media = \",media)\n",
        "desvio_padrao = results['test_score'].std()\n",
        "print(\"Accuracy com cross validation, 5 = [%.2f, %.2f]\" % ((media - 2 *desvio_padrao) * 100, (media + 2 * desvio_padrao) * 100))\n",
        "print(\"Exatidão Random Forest(Accuracy): {0:.4f}\".format(metrics.accuracy_score(Y_teste, rf_predict_test)))\n",
        "print()\n",
        "\n",
        "print(\"Confusion Matrix\")\n",
        "\n",
        "print(\"{0}\".format(metrics.confusion_matrix(Y_teste, rf_predict_test, labels = [1, 0])))\n",
        "print(\"\")\n",
        "\n",
        "print(\"Classification Report\")\n",
        "print(metrics.classification_report(Y_teste, rf_predict_test, labels = [1, 0]))"
      ],
      "metadata": {
        "colab": {
          "base_uri": "https://localhost:8080/"
        },
        "id": "23K_-kGI32c7",
        "outputId": "7896c4ce-178b-42c0-9785-93a09197d1a7"
      },
      "execution_count": null,
      "outputs": [
        {
          "output_type": "stream",
          "name": "stderr",
          "text": [
            "/usr/local/lib/python3.10/dist-packages/sklearn/model_selection/_validation.py:686: DataConversionWarning: A column-vector y was passed when a 1d array was expected. Please change the shape of y to (n_samples,), for example using ravel().\n",
            "  estimator.fit(X_train, y_train, **fit_params)\n",
            "/usr/local/lib/python3.10/dist-packages/sklearn/model_selection/_validation.py:686: DataConversionWarning: A column-vector y was passed when a 1d array was expected. Please change the shape of y to (n_samples,), for example using ravel().\n",
            "  estimator.fit(X_train, y_train, **fit_params)\n",
            "/usr/local/lib/python3.10/dist-packages/sklearn/model_selection/_validation.py:686: DataConversionWarning: A column-vector y was passed when a 1d array was expected. Please change the shape of y to (n_samples,), for example using ravel().\n",
            "  estimator.fit(X_train, y_train, **fit_params)\n",
            "/usr/local/lib/python3.10/dist-packages/sklearn/model_selection/_validation.py:686: DataConversionWarning: A column-vector y was passed when a 1d array was expected. Please change the shape of y to (n_samples,), for example using ravel().\n",
            "  estimator.fit(X_train, y_train, **fit_params)\n",
            "/usr/local/lib/python3.10/dist-packages/sklearn/model_selection/_validation.py:686: DataConversionWarning: A column-vector y was passed when a 1d array was expected. Please change the shape of y to (n_samples,), for example using ravel().\n",
            "  estimator.fit(X_train, y_train, **fit_params)\n"
          ]
        },
        {
          "output_type": "stream",
          "name": "stdout",
          "text": [
            "[0.74025974 0.74675325 0.75974026 0.83660131 0.75163399]\n",
            "Media =  0.7669977081741788\n",
            "Accuracy com cross validation, 5 = [69.62, 83.78]\n",
            "Exatidão Random Forest(Accuracy): 0.7532\n",
            "\n",
            "Confusion Matrix\n",
            "[[ 53  27]\n",
            " [ 30 121]]\n",
            "\n",
            "Classification Report\n",
            "              precision    recall  f1-score   support\n",
            "\n",
            "           1       0.64      0.66      0.65        80\n",
            "           0       0.82      0.80      0.81       151\n",
            "\n",
            "    accuracy                           0.75       231\n",
            "   macro avg       0.73      0.73      0.73       231\n",
            "weighted avg       0.76      0.75      0.75       231\n",
            "\n"
          ]
        }
      ]
    },
    {
      "cell_type": "markdown",
      "source": [
        "##Exploração métodos de classsificação Random Forest e Naive Bayes\n",
        "\n",
        "\n",
        "Arquitetura de Naive Bayes e Random Forest para classificação de Diabetes: Uma análise Comparativa\n",
        "\n",
        "Contexto:\n",
        "Aprendizado de máquina é um método de análise de dados que visa classificar ações humanas na forma de predizer dados específicos e classificá-los. Com o desenvolvimento tecnológico cada vez mais estão sendo criados algoritmos para predizer um volume de dados cada vez maior.\n",
        "O Brasil é o 5º país em incidência de diabetes no mundo, com 16,8 milhões de doentes adultos (20 a 79 anos) e a estimativa da incidência da doença em 2030 chega a 21,5 milhões. (Bvsms, 2023). Visto o aumento de pessoas com diabetes no Brasil, a demanda de classificação dos diagnósticos da doença está mais importante, visto assim o modelo de classificação desenvolvido é de grande importância.\n",
        "\n",
        "###Problema:\n",
        "Temos duas arquiteturas que serão comparadas em sua efetividade na classificação de pessoas diabéticas, Naive Bayes e Random Forest. O problema é classificá-las na melhor forma e mais eficiente possível.\n",
        "\n",
        "##Hipótese:\n",
        "Diante da comparação entre esses dois modelos de classificação, temos os seguintes cenários: Os algoritmos têm a mesma eficiência em ambas as partes, concluímos que ambos têm mesma efetividade. Supomos que o modelo Naive Bayes seja mais eficiente, logo concluímos que este modelo tem uma melhor performance nesse conjunto de dados, podemos supor a mesma análise se o modelo Random Forest tiver a melhor performance.\n",
        "Esta avaliação será feita através do conjunto de dados públicos e métricas apropriadas para avaliação dos modelos.\n",
        "##Motivação:\n",
        "Com o crescente casos de diabetes é desafiador criar um modelo que possa ajudar na análise e predições de uma pessoa diabética ou não. A grande motivação deste trabalho é obter uma análise eficaz e performática e que ajude de alguma forma na classificação de diabéticos.\n",
        "\n",
        "##Materiais:\n",
        "#####Algoritmos Supervisionados\n",
        "Neste ensaio são classificados dados entre dois algoritmos supervisionados, Naive Baayes e Random Forest tais algoritmos relacionam uma saída com uma entrada com bases em dados rotulados.  Os algoritmos determinam uma forma de prever qual rótulo de saída com base em uma entrada informada.\n",
        "O algoritmo Naive Bayes pode ser descrito estatisticamente para cálculo de uma predição ele define uma tabela de probabilidades, em que consta a frequência dos preditores com relação às variáveis de saída. Então, o cálculo final leva em conta a probabilidade maior para oferecer uma solução\n",
        "\n",
        "![image.png](data:image/png;base64,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)\n",
        "\n",
        "O algoritmo Random Forest cria árvores de decisão e combina o resultado de todas elas para concluir um resultado. Uma vantagem de utilizar o algoritmo Random Forest é que, além dele ser muito poderoso, ele retorna de maneira muito compreensiva a importância atribuída para cada variável independente na hora de realizar as predições.\n",
        "\n",
        "![image.png](data:image/png;base64,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)\n",
        "\n",
        "##Métodos:\n",
        "Processamento dos dados\n",
        "\n",
        "A preparação dos dados é uma etapa crucial no processo de aprendizado de máquina. Existem várias técnicas e etapas envolvidas nesse processo para garantir a qualidade e a eficácia dos dados utilizados no treinamento do modelo de machine learning.\n",
        "\n",
        "A primeira etapa do processamento foi observar a base de dados, entendendo suas características usando a função. shape e . isnull().values.any() elas mostram a quantidade de linha no excel e a segunda função verifica valores nulos para manipular o Dataset.\n",
        "Para a classificação de dados foi definido a saída que estava True e False para diabéticos como True = 1 e false = 0, assim defini as classes que vão ser classificadas. Em seguida para melhor entendimento, li os dados para entender a porcentagem de diabéticos que minha base de dados tem.\n",
        "\n",
        "Implementação dos Algoritmos\n",
        "\n",
        "Foi criado dados de treino e teste, dividido em 30% de teste e 70% de treino, é de extrema importância para o modelo uma grande porcentagem de treino para que o algoritmo na hora de classificá-lo ele tenha a melhor acurácia possível. foi usado a função fit(X, Y) para treinar meu modelo.\n",
        "Para uma melhor acurácia foi usada a validção cruzada dividida em 5 partes, logo gerará cinco modelos, cinco fontes de dados para treinar os modelso, cinco fontes de dados para avaliar os modelos e cinco avaliações, uma para cada modelo, tornando meu algoritmo mais preciso e com o desvio padrão mais real.\n",
        "\n",
        "A mesma forma de raciocinio foi desenvolvida para os dois modelos para compará-los.\n",
        "\n",
        "\n",
        "\n",
        "##Resultados:\n",
        "O algoritmo Naive Bayes teve sua classificação cruzada com seu desvio padrão na média entre [71.41 a 78.85]. A média das cinco classificações desse algoritmo deu entorno de 74.46%. Comparando com o algoritmo Random Forest que sua classificação cruzada esta entre [69.62 a 83.78] com média de acurácia entre 75.32% reparamos que tal algoritmo é mais eficiente que o Naive Bayes.\n",
        "\n",
        "O F1-Score do Naive Bayes esta na média de 0.80 diferente do Random Forest que é em média 0.81.\n",
        "\n",
        "##Conclusão:\n",
        "Podemos concluir que o algoritmo Ramdon Forest nesse caso comparativo foi mais eficiente com uma porcentagem de 1% de eficiência, porcentagem miníma que em uma base de dados mais robusta esta porcentagem poderia ser maior. As arquiteturas foram implementadas e treinadas com sucesso, gerando modelos com resultados comparáveis.\n",
        "\n",
        "\n",
        "##Referências:\n",
        "\n",
        "https://blog.somostera.com/data-science/naive-bayes\n",
        "\n",
        "https://bvsms.saude.gov.br/26-6-dia-nacional-do-diabetes-4/\n",
        "\n",
        "https://fontana.paginas.ufsc.br/files/2018/03/apostila_ML_pt2.pdf\n"
      ],
      "metadata": {
        "id": "8d4vZY4UsLMi"
      }
    }
  ],
  "metadata": {
    "colab": {
      "provenance": [],
      "toc_visible": true
    },
    "kernelspec": {
      "display_name": "Python 3",
      "language": "python",
      "name": "python3"
    },
    "language_info": {
      "codemirror_mode": {
        "name": "ipython",
        "version": 3
      },
      "file_extension": ".py",
      "mimetype": "text/x-python",
      "name": "python",
      "nbconvert_exporter": "python",
      "pygments_lexer": "ipython3",
      "version": "3.6.5"
    }
  },
  "nbformat": 4,
  "nbformat_minor": 0
}